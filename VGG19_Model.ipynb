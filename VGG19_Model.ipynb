{
 "cells": [
  {
   "cell_type": "code",
   "execution_count": 1,
   "id": "07ba1ad8",
   "metadata": {},
   "outputs": [],
   "source": [
    "import os\n",
    "import pathlib as Path\n",
    "import shutil\n",
    "import numpy as np\n",
    "import pandas as pd\n",
    "import matplotlib.pyplot as plt\n",
    "import cv2\n",
    "import random as rdm\n",
    "from sklearn.model_selection import train_test_split\n",
    "import tensorflow as tf\n",
    "from tensorflow.keras import Sequential, Model\n",
    "from tensorflow.keras.layers import Conv2D,MaxPooling2D,Flatten,Dense,Dropout\n",
    "from tensorflow.keras.preprocessing.image import ImageDataGenerator\n",
    "from tensorflow.keras.optimizers import Adam\n",
    "from tensorflow.keras.callbacks import ReduceLROnPlateau\n",
    "import datetime\n",
    "from tensorflow.keras.applications import VGG19"
   ]
  },
  {
   "cell_type": "code",
   "execution_count": 2,
   "id": "b776f2b9",
   "metadata": {},
   "outputs": [],
   "source": [
    "def read_img(files):\n",
    "    images = []\n",
    "    labels = []\n",
    "    for i in files:\n",
    "        image = cv2.imread(i)\n",
    "        image = cv2.resize(image,(150,150))\n",
    "        images.append(image)\n",
    "        labels.append(os.path.split(os.path.split(i)[0])[1])\n",
    "    images = np.array(images)\n",
    "    return images,labels"
   ]
  },
  {
   "cell_type": "code",
   "execution_count": 3,
   "id": "61c062d3",
   "metadata": {},
   "outputs": [
    {
     "name": "stdout",
     "output_type": "stream",
     "text": [
      "Total no. of image files in Train1:  6611\n"
     ]
    }
   ],
   "source": [
    "c = 0\n",
    "for i in os.listdir('Mainpath3/Train'):\n",
    "    for j in os.listdir(os.path.join('Mainpath3/Train',i)):\n",
    "        c+=1\n",
    "print('Total no. of image files in Train1: ',c)"
   ]
  },
  {
   "cell_type": "code",
   "execution_count": 4,
   "id": "64fc2a4f",
   "metadata": {},
   "outputs": [],
   "source": [
    "files = tf.io.gfile.glob('Mainpath3/Train/*/*.jpg')"
   ]
  },
  {
   "cell_type": "code",
   "execution_count": 5,
   "id": "6d7100ac",
   "metadata": {},
   "outputs": [],
   "source": [
    "rdm.shuffle(files)"
   ]
  },
  {
   "cell_type": "code",
   "execution_count": 6,
   "id": "4da49289",
   "metadata": {},
   "outputs": [],
   "source": [
    "train_data,train_labels = read_img(files)"
   ]
  },
  {
   "cell_type": "code",
   "execution_count": 7,
   "id": "89efc0cb",
   "metadata": {},
   "outputs": [],
   "source": [
    "val_files = tf.io.gfile.glob('Mainpath3/new_val/*/*.jpg')"
   ]
  },
  {
   "cell_type": "code",
   "execution_count": 8,
   "id": "2776175c",
   "metadata": {},
   "outputs": [],
   "source": [
    "rdm.shuffle(val_files)"
   ]
  },
  {
   "cell_type": "code",
   "execution_count": 9,
   "id": "27b9364d",
   "metadata": {},
   "outputs": [],
   "source": [
    "val_data,val_labels = read_img(val_files)"
   ]
  },
  {
   "cell_type": "code",
   "execution_count": 10,
   "id": "cecc5869",
   "metadata": {},
   "outputs": [],
   "source": [
    "test_files = tf.io.gfile.glob('Mainpath3/Test/*/*.jpg')"
   ]
  },
  {
   "cell_type": "code",
   "execution_count": 11,
   "id": "25b83ac0",
   "metadata": {},
   "outputs": [],
   "source": [
    "test_data,test_labels = read_img(test_files)"
   ]
  },
  {
   "cell_type": "code",
   "execution_count": 12,
   "id": "4fb6e8a8",
   "metadata": {},
   "outputs": [],
   "source": [
    "categories = {'Normal':0, 'Diabetes':1, 'Glaucoma':2, 'Cataract':3, 'Other':4,'Pathologocal_Myopia':5,'Macular_Deneration':6,'Hypertension':7}"
   ]
  },
  {
   "cell_type": "code",
   "execution_count": 13,
   "id": "c85ffe34",
   "metadata": {},
   "outputs": [],
   "source": [
    "train_mapped_lables = list(map(lambda x: categories.get(x, x), train_labels))"
   ]
  },
  {
   "cell_type": "code",
   "execution_count": 14,
   "id": "ad24a151",
   "metadata": {},
   "outputs": [],
   "source": [
    "val_mapped_lables = list(map(lambda x: categories.get(x, x), val_labels))\n",
    "test_mapped_lables = list(map(lambda x: categories.get(x, x), test_labels))"
   ]
  },
  {
   "cell_type": "code",
   "execution_count": 15,
   "id": "68d287e4",
   "metadata": {},
   "outputs": [],
   "source": [
    "train_arr = np.array(train_mapped_lables)\n",
    "val_arr = np.array(val_mapped_lables)\n",
    "test_arr = np.array(test_mapped_lables)"
   ]
  },
  {
   "cell_type": "markdown",
   "id": "cf4177d9",
   "metadata": {},
   "source": [
    "# VGG model\n"
   ]
  },
  {
   "cell_type": "code",
   "execution_count": 16,
   "id": "dadb034c",
   "metadata": {},
   "outputs": [
    {
     "name": "stdout",
     "output_type": "stream",
     "text": [
      "Model: \"model\"\n",
      "_________________________________________________________________\n",
      " Layer (type)                Output Shape              Param #   \n",
      "=================================================================\n",
      " input (InputLayer)          [(None, 150, 150, 3)]     0         \n",
      "                                                                 \n",
      " vgg19 (Functional)          (None, 4, 4, 512)         20024384  \n",
      "                                                                 \n",
      " global_average_pooling2d (  (None, 512)               0         \n",
      " GlobalAveragePooling2D)                                         \n",
      "                                                                 \n",
      " batch_normalization (Batch  (None, 512)               2048      \n",
      " Normalization)                                                  \n",
      "                                                                 \n",
      " dense (Dense)               (None, 256)               131328    \n",
      "                                                                 \n",
      " batch_normalization_1 (Bat  (None, 256)               1024      \n",
      " chNormalization)                                                \n",
      "                                                                 \n",
      " dense_1 (Dense)             (None, 128)               32896     \n",
      "                                                                 \n",
      " output (Dense)              (None, 5)                 645       \n",
      "                                                                 \n",
      "=================================================================\n",
      "Total params: 20192325 (77.03 MB)\n",
      "Trainable params: 166405 (650.02 KB)\n",
      "Non-trainable params: 20025920 (76.39 MB)\n",
      "_________________________________________________________________\n"
     ]
    }
   ],
   "source": [
    "def VGG_model():\n",
    "    IMAGE_SIZE = (150,150)\n",
    "    with tf.device('/gpu:0'):\n",
    "        pretrained_model = tf.keras.applications.VGG19(\n",
    "            weights='imagenet',\n",
    "            include_top=False ,\n",
    "            input_shape=[*IMAGE_SIZE, 3]\n",
    "        )\n",
    "        pretrained_model.trainable = False\n",
    "\n",
    "        \n",
    "        \n",
    "        input_layer = tf.keras.layers.Input(shape=(*IMAGE_SIZE, 3), name='input') \n",
    "        \n",
    "        x = pretrained_model(input_layer)\n",
    "\n",
    "        x = tf.keras.layers.GlobalAveragePooling2D(name='global_average_pooling2d')(x)\n",
    "        x = tf.keras.layers.BatchNormalization()(x)       \n",
    "        x = tf.keras.layers.Dense(256,activation='relu')(x)\n",
    "        x = tf.keras.layers.BatchNormalization()(x)\n",
    "        x = tf.keras.layers.Dense(128, activation='relu')(x)\n",
    "        \n",
    "        output = tf.keras.layers.Dense(units=5, \n",
    "                              activation='softmax', \n",
    "                              name='output')(x)\n",
    "\n",
    "\n",
    "        model = Model (input_layer, output)    \n",
    "        model.compile(optimizer='adam', \n",
    "                      loss='sparse_categorical_crossentropy', \n",
    "                      metrics=['accuracy'])\n",
    "\n",
    "        return model\n",
    "\n",
    "model = VGG_model()\n",
    "model.summary()"
   ]
  },
  {
   "cell_type": "code",
   "execution_count": null,
   "id": "a7d88403",
   "metadata": {},
   "outputs": [],
   "source": [
    "run_time = datetime.datetime.now()\n",
    "lrr = ReduceLROnPlateau(monitor='val_accuracy', patience = 1, verbose=1, factor=0.3, min_lr=0.000001)\n",
    "es = tf.keras.callbacks.EarlyStopping(\n",
    "    monitor=\"val_loss\",\n",
    "    patience=10,\n",
    "    restore_best_weights=True,\n",
    ")\n",
    "\n",
    "trained = model.fit(\n",
    "                    train_data,train_arr,\n",
    "                    validation_data = (val_data,val_arr),\n",
    "                    batch_size = 32, \n",
    "                    epochs=50,\n",
    "                    callbacks=[lrr, es]\n",
    "    )\n",
    "\n",
    "requared_time = datetime.datetime.now() - run_time\n",
    "print(f'\\nRequired time:  {str(requared_time)}\\n')"
   ]
  },
  {
   "cell_type": "code",
   "execution_count": null,
   "id": "1e2bb66a",
   "metadata": {},
   "outputs": [],
   "source": [
    "loss, accuracy = model.evaluate(test_data,test_arr)"
   ]
  },
  {
   "cell_type": "code",
   "execution_count": null,
   "id": "1af7785d",
   "metadata": {
    "scrolled": true
   },
   "outputs": [],
   "source": [
    "print('loss: ',loss,'  accuracy: ', accuracy)"
   ]
  }
 ],
 "metadata": {
  "kernelspec": {
   "display_name": "Python 3 (ipykernel)",
   "language": "python",
   "name": "python3"
  },
  "language_info": {
   "codemirror_mode": {
    "name": "ipython",
    "version": 3
   },
   "file_extension": ".py",
   "mimetype": "text/x-python",
   "name": "python",
   "nbconvert_exporter": "python",
   "pygments_lexer": "ipython3",
   "version": "3.9.13"
  }
 },
 "nbformat": 4,
 "nbformat_minor": 5
}
