{
 "cells": [
  {
   "cell_type": "code",
   "execution_count": 1,
   "id": "07ba1ad8",
   "metadata": {},
   "outputs": [],
   "source": [
    "import os\n",
    "import pathlib as Path\n",
    "import shutil\n",
    "import numpy as np\n",
    "import pandas as pd\n",
    "import matplotlib.pyplot as plt\n",
    "import cv2\n",
    "import random as rdm\n",
    "from sklearn.model_selection import train_test_split\n",
    "import tensorflow as tf\n",
    "from tensorflow.keras import Sequential, Model\n",
    "from tensorflow.keras.layers import Conv2D,MaxPooling2D,Flatten,Dense,Dropout\n",
    "from tensorflow.keras.preprocessing.image import ImageDataGenerator\n",
    "from tensorflow.keras.optimizers import Adam\n",
    "import datetime"
   ]
  },
  {
   "cell_type": "code",
   "execution_count": 2,
   "id": "b776f2b9",
   "metadata": {},
   "outputs": [],
   "source": [
    "def read_img(files):\n",
    "    images = []\n",
    "    labels = []\n",
    "    for i in files:\n",
    "        image = cv2.imread(i)\n",
    "        image = cv2.resize(image,(150,150))\n",
    "        images.append(image)\n",
    "        labels.append(os.path.split(os.path.split(i)[0])[1])\n",
    "    images = np.array(images)\n",
    "    return images,labels"
   ]
  },
  {
   "cell_type": "code",
   "execution_count": 3,
   "id": "64fc2a4f",
   "metadata": {},
   "outputs": [],
   "source": [
    "files = tf.io.gfile.glob('Mainpath3/Train/*/*.jpg')"
   ]
  },
  {
   "cell_type": "code",
   "execution_count": 5,
   "id": "6d7100ac",
   "metadata": {},
   "outputs": [],
   "source": [
    "rdm.shuffle(files)"
   ]
  },
  {
   "cell_type": "code",
   "execution_count": 6,
   "id": "4da49289",
   "metadata": {},
   "outputs": [],
   "source": [
    "train_data,train_labels = read_img(files)"
   ]
  },
  {
   "cell_type": "code",
   "execution_count": 7,
   "id": "89efc0cb",
   "metadata": {},
   "outputs": [],
   "source": [
    "val_files = tf.io.gfile.glob('Mainpath3/new_val/*/*.jpg')"
   ]
  },
  {
   "cell_type": "code",
   "execution_count": 8,
   "id": "2776175c",
   "metadata": {},
   "outputs": [],
   "source": [
    "rdm.shuffle(val_files)"
   ]
  },
  {
   "cell_type": "code",
   "execution_count": 9,
   "id": "27b9364d",
   "metadata": {},
   "outputs": [],
   "source": [
    "val_data,val_labels = read_img(val_files)"
   ]
  },
  {
   "cell_type": "code",
   "execution_count": 10,
   "id": "cecc5869",
   "metadata": {},
   "outputs": [],
   "source": [
    "test_files = tf.io.gfile.glob('Mainpath3/Test/*/*.jpg')"
   ]
  },
  {
   "cell_type": "code",
   "execution_count": 11,
   "id": "25b83ac0",
   "metadata": {},
   "outputs": [],
   "source": [
    "test_data,test_labels = read_img(test_files)"
   ]
  },
  {
   "cell_type": "code",
   "execution_count": 12,
   "id": "4fb6e8a8",
   "metadata": {},
   "outputs": [],
   "source": [
    "categories = {'Normal':0, 'Diabetes':1, 'Glaucoma':2, 'Cataract':3, 'Other':4,'Pathologocal_Myopia':5,'Macular_Deneration':6,'Hypertension':7}"
   ]
  },
  {
   "cell_type": "code",
   "execution_count": 13,
   "id": "c85ffe34",
   "metadata": {},
   "outputs": [],
   "source": [
    "train_mapped_lables = list(map(lambda x: categories.get(x, x), train_labels))"
   ]
  },
  {
   "cell_type": "code",
   "execution_count": 14,
   "id": "ad24a151",
   "metadata": {},
   "outputs": [],
   "source": [
    "val_mapped_lables = list(map(lambda x: categories.get(x, x), val_labels))\n",
    "test_mapped_lables = list(map(lambda x: categories.get(x, x), test_labels))"
   ]
  },
  {
   "cell_type": "code",
   "execution_count": 15,
   "id": "68d287e4",
   "metadata": {},
   "outputs": [],
   "source": [
    "train_arr = np.array(train_mapped_lables)\n",
    "val_arr = np.array(val_mapped_lables)\n",
    "test_arr = np.array(test_mapped_lables)"
   ]
  },
  {
   "cell_type": "code",
   "execution_count": 16,
   "id": "d97368fa",
   "metadata": {},
   "outputs": [],
   "source": [
    "train_data_dir = 'Mainpath3/Train/'\n",
    "val_data_dir = 'Mainpath3/new_val/'\n",
    "test_data_dir = 'Mainpath3/Test/'\n",
    "batch_size = 32"
   ]
  },
  {
   "cell_type": "code",
   "execution_count": 17,
   "id": "7058f77c",
   "metadata": {},
   "outputs": [
    {
     "name": "stdout",
     "output_type": "stream",
     "text": [
      "Found 6611 images belonging to 5 classes.\n",
      "Found 660 images belonging to 5 classes.\n"
     ]
    }
   ],
   "source": [
    "train_datagen = ImageDataGenerator(\n",
    "    rescale=1./255,\n",
    "    shear_range=0.2,\n",
    "    zoom_range=0.2,\n",
    "    horizontal_flip=True)\n",
    "\n",
    "# Rescale validation data (no augmentation for validation)\n",
    "val_datagen = ImageDataGenerator(rescale=1./255)\n",
    "\n",
    "# Create data generators\n",
    "train_generator = train_datagen.flow_from_directory(\n",
    "    train_data_dir,\n",
    "    target_size=(150, 150),\n",
    "    batch_size=batch_size,\n",
    "    class_mode='categorical')\n",
    "\n",
    "validation_generator = val_datagen.flow_from_directory(\n",
    "    val_data_dir,\n",
    "    target_size=(150, 150),\n",
    "    batch_size=batch_size,\n",
    "    class_mode='categorical')"
   ]
  },
  {
   "cell_type": "code",
   "execution_count": 18,
   "id": "f5a12d9a",
   "metadata": {},
   "outputs": [
    {
     "name": "stdout",
     "output_type": "stream",
     "text": [
      "Found 660 images belonging to 5 classes.\n"
     ]
    }
   ],
   "source": [
    "test_datagen = ImageDataGenerator(rescale=1./255)\n",
    "test_generator = test_datagen.flow_from_directory(\n",
    "    test_data_dir,\n",
    "    target_size=(150, 150),\n",
    "    batch_size=batch_size,\n",
    "    class_mode='categorical')"
   ]
  },
  {
   "cell_type": "code",
   "execution_count": 19,
   "id": "2d599d1d",
   "metadata": {},
   "outputs": [],
   "source": [
    "model2 = Sequential()\n",
    "model2.add(Conv2D(32, (3, 3), activation='relu',input_shape=(150,150,3)))\n",
    "model2.add(MaxPooling2D((2, 2)))\n",
    "\n",
    "model2.add(Conv2D(64, (3, 3), activation='relu'))\n",
    "model2.add(MaxPooling2D((2, 2)))\n",
    "\n",
    "model2.add(Conv2D(128, (3, 3), activation='relu'))\n",
    "model2.add(MaxPooling2D((2, 2)))\n",
    "\n",
    "model2.add(Flatten())\n",
    "model2.add(Dense(256, activation='relu'))\n",
    "model2.add(Dropout(0.5))\n",
    "model2.add(Dense(5, activation='softmax'))"
   ]
  },
  {
   "cell_type": "code",
   "execution_count": 20,
   "id": "71ba32e7",
   "metadata": {},
   "outputs": [
    {
     "name": "stderr",
     "output_type": "stream",
     "text": [
      "WARNING:absl:`lr` is deprecated in Keras optimizer, please use `learning_rate` or use the legacy optimizer, e.g.,tf.keras.optimizers.legacy.Adam.\n"
     ]
    }
   ],
   "source": [
    "model2.compile(optimizer=Adam(lr=0.0001), loss='categorical_crossentropy', metrics=['accuracy'])"
   ]
  },
  {
   "cell_type": "code",
   "execution_count": null,
   "id": "26d47ade",
   "metadata": {
    "scrolled": false
   },
   "outputs": [
    {
     "name": "stdout",
     "output_type": "stream",
     "text": [
      "Epoch 1/30\n",
      " 33/206 [===>..........................] - ETA: 4:17 - loss: 1.4780 - accuracy: 0.3305"
     ]
    }
   ],
   "source": [
    "history2 = model2.fit(\n",
    "    train_generator,\n",
    "    steps_per_epoch=train_generator.samples // batch_size,\n",
    "    epochs=30,\n",
    "    validation_data=validation_generator,\n",
    "    validation_steps=validation_generator.samples // batch_size,\n",
    ")"
   ]
  },
  {
   "cell_type": "code",
   "execution_count": null,
   "id": "3e553b7f",
   "metadata": {
    "scrolled": false
   },
   "outputs": [],
   "source": [
    "loss2, accuracy2 = model2.evaluate(test_generator, batch_size= batch_size)"
   ]
  }
 ],
 "metadata": {
  "kernelspec": {
   "display_name": "Python 3 (ipykernel)",
   "language": "python",
   "name": "python3"
  },
  "language_info": {
   "codemirror_mode": {
    "name": "ipython",
    "version": 3
   },
   "file_extension": ".py",
   "mimetype": "text/x-python",
   "name": "python",
   "nbconvert_exporter": "python",
   "pygments_lexer": "ipython3",
   "version": "3.9.13"
  }
 },
 "nbformat": 4,
 "nbformat_minor": 5
}
