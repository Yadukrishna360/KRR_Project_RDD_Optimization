{
 "cells": [
  {
   "cell_type": "code",
   "execution_count": 46,
   "id": "bdfcc422",
   "metadata": {},
   "outputs": [],
   "source": [
    "import os"
   ]
  },
  {
   "cell_type": "code",
   "execution_count": 47,
   "id": "b0f105b6",
   "metadata": {},
   "outputs": [],
   "source": [
    "BASE_DIR = \"Mainpath/\"\n",
    "if not(os.path.isdir(BASE_DIR)):\n",
    "    os.mkdir(BASE_DIR)\n",
    "    os.mkdir(os.path.join(BASE_DIR, 'Train'))\n",
    "    os.mkdir(os.path.join(BASE_DIR, 'Validation'))\n",
    "    os.mkdir(os.path.join(BASE_DIR, 'Test'))"
   ]
  },
  {
   "cell_type": "code",
   "execution_count": 48,
   "id": "03d2f1c8",
   "metadata": {},
   "outputs": [],
   "source": [
    "TRAIN_DIR = f\"./{BASE_DIR}/Train/\"\n",
    "VALID_DIR = f\"./{BASE_DIR}/Validation/\"\n",
    "TEST_DIR = f\"./{BASE_DIR}/Test/\"\n",
    "\n",
    "categories = ['Normal', 'Diabetes', 'Glaucoma', 'Cataract', 'Other']\n",
    "#make a folder for each category\n",
    "for category in categories:\n",
    "    if not(os.path.isdir(os.path.join(TRAIN_DIR, category))):\n",
    "        os.mkdir(os.path.join(TRAIN_DIR, category))\n",
    "        os.mkdir(os.path.join(VALID_DIR, category))\n",
    "        os.mkdir(os.path.join(TEST_DIR, category))"
   ]
  },
  {
   "cell_type": "code",
   "execution_count": 49,
   "id": "a19e6326",
   "metadata": {},
   "outputs": [],
   "source": [
    "import pandas as pd"
   ]
  },
  {
   "cell_type": "code",
   "execution_count": 50,
   "id": "b69737c1",
   "metadata": {},
   "outputs": [],
   "source": [
    "data = pd.read_csv('full_df.csv')"
   ]
  },
  {
   "cell_type": "code",
   "execution_count": 51,
   "id": "09bd63ea",
   "metadata": {},
   "outputs": [],
   "source": [
    "SOURCE_DIR = 'All_data/'"
   ]
  },
  {
   "cell_type": "code",
   "execution_count": 52,
   "id": "98cafa94",
   "metadata": {},
   "outputs": [
    {
     "name": "stdout",
     "output_type": "stream",
     "text": [
      "8000\n"
     ]
    }
   ],
   "source": [
    "print(len(os.listdir('All_data/')))"
   ]
  },
  {
   "cell_type": "code",
   "execution_count": 53,
   "id": "33b6b95f",
   "metadata": {},
   "outputs": [],
   "source": [
    "import shutil"
   ]
  },
  {
   "cell_type": "code",
   "execution_count": 54,
   "id": "59d65e65",
   "metadata": {},
   "outputs": [
    {
     "name": "stderr",
     "output_type": "stream",
     "text": [
      "100%|█████████████████████████████████████████████████████████████████████████████| 6392/6392 [00:11<00:00, 548.88it/s]\n"
     ]
    }
   ],
   "source": [
    "from tqdm import tqdm\n",
    "#grouping the images into their respective disease type/folder\n",
    "for i in tqdm(range(len(data))):\n",
    "    filename = str(data.iloc[i]['filename'])\n",
    "    if data.iloc[i]['N'] == 1:\n",
    "        shutil.copy(SOURCE_DIR + filename, f'{BASE_DIR}Train/Normal/')\n",
    "        \n",
    "    if data.iloc[i]['D'] == 1:\n",
    "        shutil.copy(SOURCE_DIR + filename, f'{BASE_DIR}Train/Diabetes/')\n",
    "        \n",
    "    if data.iloc[i]['G'] == 1:\n",
    "        shutil.copy(SOURCE_DIR + filename, f'{BASE_DIR}Train/Glaucoma/')\n",
    "        \n",
    "    if data.iloc[i]['C'] == 1:\n",
    "        shutil.copy(SOURCE_DIR + filename, f'{BASE_DIR}Train/Cataract/')\n",
    "        \n",
    "    if data.iloc[i]['O'] == 1:\n",
    "        shutil.copy(SOURCE_DIR + filename, f'{BASE_DIR}Train/Other/')\n"
   ]
  },
  {
   "cell_type": "code",
   "execution_count": 55,
   "id": "4c584bac",
   "metadata": {},
   "outputs": [
    {
     "name": "stdout",
     "output_type": "stream",
     "text": [
      "2101\n",
      "2123\n",
      "397\n",
      "402\n",
      "1588\n"
     ]
    }
   ],
   "source": [
    "print(len(os.listdir(f'{BASE_DIR}Train/Normal/')))\n",
    "print(len(os.listdir(f'{BASE_DIR}Train/Diabetes/')))\n",
    "print(len(os.listdir(f'{BASE_DIR}Train/Glaucoma/')))\n",
    "print(len(os.listdir(f'{BASE_DIR}Train/Cataract/')))\n",
    "print(len(os.listdir(f'{BASE_DIR}Train/Other/')))"
   ]
  },
  {
   "cell_type": "code",
   "execution_count": 56,
   "id": "7c239400",
   "metadata": {},
   "outputs": [
    {
     "name": "stderr",
     "output_type": "stream",
     "text": [
      "100%|███████████████████████████████████████████████████████████████████████████████| 420/420 [00:02<00:00, 194.53it/s]\n",
      "100%|███████████████████████████████████████████████████████████████████████████████| 424/424 [00:02<00:00, 200.25it/s]\n",
      "100%|█████████████████████████████████████████████████████████████████████████████████| 79/79 [00:00<00:00, 193.65it/s]\n",
      "100%|█████████████████████████████████████████████████████████████████████████████████| 80/80 [00:00<00:00, 201.96it/s]\n",
      "100%|███████████████████████████████████████████████████████████████████████████████| 317/317 [00:01<00:00, 192.64it/s]\n"
     ]
    }
   ],
   "source": [
    "import random\n",
    "#move 20% from each category into validation\n",
    "for category in categories:\n",
    "    SOURCE = f'./{BASE_DIR}/Train/{category}/'\n",
    "    DEST = f'./{BASE_DIR}/Validation/{category}/'\n",
    "    files = os.listdir(SOURCE)\n",
    "    valid_images = random.sample(files, k=int(len(files)*20/100))\n",
    "    for image in tqdm(valid_images):\n",
    "        shutil.copy(SOURCE + image, DEST)"
   ]
  },
  {
   "cell_type": "code",
   "execution_count": 59,
   "id": "d39c1a6d",
   "metadata": {
    "scrolled": true
   },
   "outputs": [
    {
     "name": "stderr",
     "output_type": "stream",
     "text": [
      "100%|██████████████████████████████████████████████████████████████████████████████| 210/210 [00:00<00:00, 1504.02it/s]\n",
      "100%|██████████████████████████████████████████████████████████████████████████████| 212/212 [00:00<00:00, 1561.93it/s]\n",
      "100%|████████████████████████████████████████████████████████████████████████████████| 39/39 [00:00<00:00, 1345.87it/s]\n",
      "100%|████████████████████████████████████████████████████████████████████████████████| 40/40 [00:00<00:00, 1391.55it/s]\n",
      "100%|██████████████████████████████████████████████████████████████████████████████| 158/158 [00:00<00:00, 1553.18it/s]\n"
     ]
    }
   ],
   "source": [
    "for category in categories:\n",
    "    SOURCE = f'./{BASE_DIR}/Validation/{category}/'\n",
    "    DEST = f'./{BASE_DIR}/Test/{category}/'\n",
    "    files1 = os.listdir(SOURCE)\n",
    "    test_images = random.sample(files1, k=int(len(files1)//2))\n",
    "    for image in tqdm(test_images):\n",
    "        shutil.move(SOURCE + image, DEST)"
   ]
  },
  {
   "cell_type": "code",
   "execution_count": 62,
   "id": "50ceb85f",
   "metadata": {},
   "outputs": [
    {
     "name": "stdout",
     "output_type": "stream",
     "text": [
      "Train Set\n",
      "\n",
      "Normal: 2101\n",
      "Diabetes: 2123\n",
      "Glaucoma: 397\n",
      "Cataract: 402\n",
      "Other: 1588\n"
     ]
    }
   ],
   "source": [
    "print(\"Train Set\\n\")\n",
    "categories = ['Normal', 'Diabetes', 'Glaucoma', 'Cataract', 'Other']\n",
    "for category in categories:\n",
    "    length = len(os.listdir(f'./{BASE_DIR}/Train/{category}/'))\n",
    "    print(f'{category}: {length}')"
   ]
  },
  {
   "cell_type": "code",
   "execution_count": 63,
   "id": "8c6aabc5",
   "metadata": {},
   "outputs": [
    {
     "name": "stdout",
     "output_type": "stream",
     "text": [
      "Valid Set\n",
      "\n",
      "Normal: 210\n",
      "Diabetes: 212\n",
      "Glaucoma: 40\n",
      "Cataract: 40\n",
      "Other: 159\n"
     ]
    }
   ],
   "source": [
    "print(\"Valid Set\\n\")\n",
    "for category in categories:\n",
    "    length = len(os.listdir(f'./{BASE_DIR}/Validation/{category}/'))\n",
    "    print(f'{category}: {length}')"
   ]
  },
  {
   "cell_type": "code",
   "execution_count": 64,
   "id": "3907c637",
   "metadata": {},
   "outputs": [
    {
     "name": "stdout",
     "output_type": "stream",
     "text": [
      "Test Set\n",
      "\n",
      "Normal: 210\n",
      "Diabetes: 212\n",
      "Glaucoma: 39\n",
      "Cataract: 40\n",
      "Other: 158\n"
     ]
    }
   ],
   "source": [
    "print(\"Test Set\\n\")\n",
    "for category in categories:\n",
    "    length = len(os.listdir(f'./{BASE_DIR}/Test/{category}/'))\n",
    "    print(f'{category}: {length}')"
   ]
  }
 ],
 "metadata": {
  "kernelspec": {
   "display_name": "Python 3 (ipykernel)",
   "language": "python",
   "name": "python3"
  },
  "language_info": {
   "codemirror_mode": {
    "name": "ipython",
    "version": 3
   },
   "file_extension": ".py",
   "mimetype": "text/x-python",
   "name": "python",
   "nbconvert_exporter": "python",
   "pygments_lexer": "ipython3",
   "version": "3.9.13"
  }
 },
 "nbformat": 4,
 "nbformat_minor": 5
}
